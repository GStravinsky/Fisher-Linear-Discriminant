{
 "cells": [
  {
   "cell_type": "code",
   "execution_count": 9,
   "metadata": {},
   "outputs": [],
   "source": [
    "import numpy as np\n",
    "import matplotlib.pyplot as plt\n",
    "zip_code = np.loadtxt(\"zip.train\")"
   ]
  },
  {
   "cell_type": "code",
   "execution_count": 4,
   "metadata": {},
   "outputs": [
    {
     "data": {
      "text/plain": [
       "array([[ 6.   , -1.   , -1.   , ..., -1.   , -1.   , -1.   ],\n",
       "       [ 5.   , -1.   , -1.   , ..., -0.671, -0.828, -1.   ],\n",
       "       [ 4.   , -1.   , -1.   , ..., -1.   , -1.   , -1.   ],\n",
       "       ...,\n",
       "       [ 3.   , -1.   , -1.   , ..., -1.   , -1.   , -1.   ],\n",
       "       [ 0.   , -1.   , -1.   , ..., -1.   , -1.   , -1.   ],\n",
       "       [ 1.   , -1.   , -1.   , ..., -1.   , -1.   , -1.   ]])"
      ]
     },
     "execution_count": 4,
     "metadata": {},
     "output_type": "execute_result"
    }
   ],
   "source": [
    "zip_code"
   ]
  },
  {
   "cell_type": "code",
   "execution_count": 5,
   "metadata": {},
   "outputs": [],
   "source": [
    "digits = zip_code[:,0]\n",
    "pixels = zip_code[:,1:]"
   ]
  },
  {
   "cell_type": "code",
   "execution_count": 6,
   "metadata": {},
   "outputs": [],
   "source": [
    "pixels = pixels.reshape(-1,16,16)"
   ]
  },
  {
   "cell_type": "code",
   "execution_count": 10,
   "metadata": {},
   "outputs": [
    {
     "data": {
      "text/plain": [
       "<matplotlib.image.AxesImage at 0x7f3a97f1ea90>"
      ]
     },
     "execution_count": 10,
     "metadata": {},
     "output_type": "execute_result"
    },
    {
     "data": {
      "image/png": "[encoded data removed]",
      "text/plain": [
       "<Figure size 288x288 with 1 Axes>"
      ]
     },
     "metadata": {
      "needs_background": "light"
     },
     "output_type": "display_data"
    }
   ],
   "source": [
    "plt.matshow(pixels[0])"
   ]
  },
  {
   "cell_type": "code",
   "execution_count": 25,
   "metadata": {},
   "outputs": [
    {
     "data": {
      "text/plain": [
       "array([[-0.8085   ],\n",
       "       [-0.71175  ],\n",
       "       [-0.6868125],\n",
       "       [-0.6435   ],\n",
       "       [-0.6459375],\n",
       "       [-0.6510625],\n",
       "       [-0.625125 ],\n",
       "       [-0.2286875],\n",
       "       [ 0.0495625],\n",
       "       [ 0.0128125],\n",
       "       [-0.0886875],\n",
       "       [-0.015375 ],\n",
       "       [ 0.279375 ],\n",
       "       [ 0.2194375],\n",
       "       [-0.024625 ],\n",
       "       [-0.5161875]])"
      ]
     },
     "execution_count": 25,
     "metadata": {},
     "output_type": "execute_result"
    }
   ],
   "source": [
    "six = pixels[0]\n",
    "np.mean(six, axis=1, keepdims=True)"
   ]
  },
  {
   "cell_type": "code",
   "execution_count": 29,
   "metadata": {},
   "outputs": [
    {
     "data": {
      "text/plain": [
       "<matplotlib.image.AxesImage at 0x7f3a9231f3c8>"
      ]
     },
     "execution_count": 29,
     "metadata": {},
     "output_type": "execute_result"
    },
    {
     "data": {
      "image/png": "[encoded data removed]",
      "text/plain": [
       "<Figure size 288x288 with 1 Axes>"
      ]
     },
     "metadata": {
      "needs_background": "light"
     },
     "output_type": "display_data"
    }
   ],
   "source": [
    "six_dm = six - np.mean(six,T keepdims=True)\n",
    "plt.matshow(six_dm)"
   ]
  },
  {
   "cell_type": "code",
   "execution_count": 31,
   "metadata": {},
   "outputs": [
    {
     "data": {
      "text/plain": [
       "-0.31781640625"
      ]
     },
     "execution_count": 31,
     "metadata": {},
     "output_type": "execute_result"
    }
   ],
   "source": [
    "np.mean(six)"
   ]
  },
  {
   "cell_type": "code",
   "execution_count": 32,
   "metadata": {},
   "outputs": [
    {
     "data": {
      "text/plain": [
       "array([[-0.68218359, -0.68218359, -0.68218359, -0.68218359, -0.68218359,\n",
       "        -0.68218359, -0.68218359, -0.31318359,  1.17981641,  0.15081641,\n",
       "        -0.68218359, -0.68218359, -0.68218359, -0.68218359, -0.68218359,\n",
       "        -0.68218359],\n",
       "       [-0.68218359, -0.68218359, -0.68218359, -0.68218359, -0.68218359,\n",
       "        -0.68218359, -0.67418359,  0.61481641,  1.31781641,  0.62481641,\n",
       "        -0.68218359, -0.68218359, -0.68218359, -0.68218359, -0.68218359,\n",
       "        -0.68218359],\n",
       "       [-0.68218359, -0.68218359, -0.68218359, -0.68218359, -0.68218359,\n",
       "        -0.68218359, -0.09218359,  1.31781641,  1.30381641, -0.24718359,\n",
       "        -0.68218359, -0.68218359, -0.68218359, -0.68218359, -0.68218359,\n",
       "        -0.68218359],\n",
       "       [-0.68218359, -0.68218359, -0.68218359, -0.68218359, -0.68218359,\n",
       "        -0.36518359,  1.14281641,  1.31781641,  0.87981641, -0.68218359,\n",
       "        -0.68218359, -0.68218359, -0.68218359, -0.68218359, -0.68218359,\n",
       "        -0.68218359],\n",
       "       [-0.68218359, -0.68218359, -0.68218359, -0.68218359, -0.62018359,\n",
       "         0.85781641,  1.31781641,  1.09581641, -0.39718359, -0.68218359,\n",
       "        -0.68218359, -0.68218359, -0.68218359, -0.68218359, -0.68218359,\n",
       "        -0.68218359],\n",
       "       [-0.68218359, -0.68218359, -0.68218359, -0.68218359,  0.41781641,\n",
       "         1.31781641,  1.23981641, -0.12118359, -0.68218359, -0.68218359,\n",
       "        -0.68218359, -0.68218359, -0.68218359, -0.68218359, -0.68218359,\n",
       "        -0.68218359],\n",
       "       [-0.68218359, -0.68218359, -0.68218359,  0.06081641,  1.26781641,\n",
       "         1.31781641,  0.15581641, -0.68218359, -0.68218359, -0.68218359,\n",
       "        -0.66918359, -0.39618359, -0.51418359, -0.68218359, -0.68218359,\n",
       "        -0.68218359],\n",
       "       [-0.68218359, -0.68218359, -0.47918359,  1.22681641,  1.31781641,\n",
       "         0.61781641, -0.64318359, -0.68218359, -0.68218359, -0.23218359,\n",
       "         0.80281641,  1.31381641,  1.18481641,  0.40981641, -0.68218359,\n",
       "        -0.68218359],\n",
       "       [-0.68218359, -0.68218359,  0.59581641,  1.31781641,  1.19481641,\n",
       "        -0.50618359, -0.68218359, -0.58718359,  0.46281641,  1.29481641,\n",
       "         1.31781641,  1.31781641,  1.31781641,  1.30781641, -0.42718359,\n",
       "        -0.68218359],\n",
       "       [-0.68218359, -0.63218359,  1.16481641,  1.31781641,  0.64481641,\n",
       "        -0.68218359, -0.68218359,  0.67281641,  1.31781641,  0.97281641,\n",
       "         0.20881641,  0.13281641,  1.31781641,  1.30581641, -0.40518359,\n",
       "        -0.68218359],\n",
       "       [-0.68218359, -0.31218359,  1.31781641,  1.31781641,  0.38581641,\n",
       "        -0.60718359,  0.43081641,  1.27781641,  0.62581641, -0.56618359,\n",
       "        -0.68218359,  0.24281641,  1.31781641,  0.95881641, -0.67718359,\n",
       "        -0.68218359],\n",
       "       [-0.68218359, -0.35918359,  1.31781641,  1.31781641,  1.07081641,\n",
       "         0.65881641,  1.31781641,  1.02481641, -0.62418359, -0.68218359,\n",
       "        -0.68218359,  0.86281641,  1.31781641,  0.34481641, -0.68218359,\n",
       "        -0.68218359],\n",
       "       [-0.68218359, -0.58518359,  1.10981641,  1.31781641,  1.31781641,\n",
       "         1.31781641,  1.31781641,  0.85381641,  0.50181641,  1.12981641,\n",
       "         1.15481641,  1.29581641,  1.18181641, -0.31218359, -0.68218359,\n",
       "        -0.68218359],\n",
       "       [-0.68218359, -0.68218359, -0.13418359,  1.14581641,  1.31781641,\n",
       "         1.31781641,  1.31781641,  1.31781641,  1.31781641,  1.31781641,\n",
       "         1.31781641,  1.31781641,  0.45281641, -0.68218359, -0.68218359,\n",
       "        -0.68218359],\n",
       "       [-0.68218359, -0.68218359, -0.68218359, -0.16518359,  1.13081641,\n",
       "         1.31781641,  1.31781641,  1.31781641,  1.31781641,  1.31781641,\n",
       "         1.31781641,  0.53681641, -0.62518359, -0.68218359, -0.68218359,\n",
       "        -0.68218359],\n",
       "       [-0.68218359, -0.68218359, -0.68218359, -0.68218359, -0.65618359,\n",
       "        -0.11118359,  0.62181641,  1.14081641,  1.31781641,  0.79981641,\n",
       "        -0.15618359, -0.67318359, -0.68218359, -0.68218359, -0.68218359,\n",
       "        -0.68218359]])"
      ]
     },
     "execution_count": 32,
     "metadata": {},
     "output_type": "execute_result"
    }
   ],
   "source": [
    "six_dm"
   ]
  }
 ],
 "metadata": {
  "kernelspec": {
   "display_name": "Python 3",
   "language": "python",
   "name": "python3"
  },
  "language_info": {
   "codemirror_mode": {
    "name": "ipython",
    "version": 3
   },
   "file_extension": ".py",
   "mimetype": "text/x-python",
   "name": "python",
   "nbconvert_exporter": "python",
   "pygments_lexer": "ipython3",
   "version": "3.6.8"
  }
 },
 "nbformat": 4,
 "nbformat_minor": 2
}
